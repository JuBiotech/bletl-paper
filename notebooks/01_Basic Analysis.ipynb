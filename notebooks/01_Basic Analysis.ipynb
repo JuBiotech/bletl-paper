{
 "cells": [
  {
   "cell_type": "markdown",
   "id": "44d2f88d",
   "metadata": {},
   "source": [
    "# Basic Analysis\n",
    "This notebook shows how to parse the various raw data files and prepare simple figures."
   ]
  },
  {
   "cell_type": "code",
   "execution_count": 1,
   "id": "modular-creature",
   "metadata": {},
   "outputs": [],
   "source": [
    "import ipywidgets\n",
    "from matplotlib import pyplot\n",
    "import pandas\n",
    "import pathlib\n",
    "\n",
    "import bletl\n",
    "\n",
    "DP_DATA = pathlib.Path(\"..\", \"data\")\n",
    "DP_RESULTS = pathlib.Path(\"..\", \"results\")"
   ]
  },
  {
   "cell_type": "markdown",
   "id": "collected-series",
   "metadata": {},
   "source": [
    "## Parsing the raw data"
   ]
  },
  {
   "cell_type": "code",
   "execution_count": 2,
   "id": "shaped-fifth",
   "metadata": {},
   "outputs": [
    {
     "data": {
      "text/plain": [
       "BLData(model=BLPro) {\n",
       "  \"BS3\": FilterTimeSeries(112 cycles, 48 wells),\n",
       "  \"pH\": FilterTimeSeries(112 cycles, 48 wells),\n",
       "  \"DO\": FilterTimeSeries(112 cycles, 48 wells),\n",
       "}"
      ]
     },
     "execution_count": 2,
     "metadata": {},
     "output_type": "execute_result"
    }
   ],
   "source": [
    "bldata = bletl.parse(DP_DATA / \"8X4PF4.csv\")\n",
    "bldata"
   ]
  },
  {
   "cell_type": "code",
   "execution_count": 3,
   "id": "southern-southeast",
   "metadata": {},
   "outputs": [
    {
     "data": {
      "text/html": [
       "<div>\n",
       "<style scoped>\n",
       "    .dataframe tbody tr th:only-of-type {\n",
       "        vertical-align: middle;\n",
       "    }\n",
       "\n",
       "    .dataframe tbody tr th {\n",
       "        vertical-align: top;\n",
       "    }\n",
       "\n",
       "    .dataframe thead th {\n",
       "        text-align: right;\n",
       "    }\n",
       "</style>\n",
       "<table border=\"1\" class=\"dataframe\">\n",
       "  <thead>\n",
       "    <tr style=\"text-align: right;\">\n",
       "      <th></th>\n",
       "      <th>timestamp</th>\n",
       "      <th>time</th>\n",
       "      <th>cycle</th>\n",
       "      <th>volume</th>\n",
       "      <th>harvesttime</th>\n",
       "    </tr>\n",
       "    <tr>\n",
       "      <th>well</th>\n",
       "      <th></th>\n",
       "      <th></th>\n",
       "      <th></th>\n",
       "      <th></th>\n",
       "      <th></th>\n",
       "    </tr>\n",
       "  </thead>\n",
       "  <tbody>\n",
       "    <tr>\n",
       "      <th>A01</th>\n",
       "      <td>2020-07-21T04:04:43.072Z</td>\n",
       "      <td>8.987120</td>\n",
       "      <td>42</td>\n",
       "      <td>10</td>\n",
       "      <td>12.987120</td>\n",
       "    </tr>\n",
       "    <tr>\n",
       "      <th>A02</th>\n",
       "      <td>2020-07-21T02:47:12.518Z</td>\n",
       "      <td>7.695299</td>\n",
       "      <td>36</td>\n",
       "      <td>10</td>\n",
       "      <td>11.695299</td>\n",
       "    </tr>\n",
       "    <tr>\n",
       "      <th>A03</th>\n",
       "      <td>2020-07-21T04:04:43.118Z</td>\n",
       "      <td>8.987132</td>\n",
       "      <td>42</td>\n",
       "      <td>10</td>\n",
       "      <td>12.987132</td>\n",
       "    </tr>\n",
       "    <tr>\n",
       "      <th>A04</th>\n",
       "      <td>2020-07-21T04:04:43.147Z</td>\n",
       "      <td>8.987140</td>\n",
       "      <td>42</td>\n",
       "      <td>10</td>\n",
       "      <td>12.987140</td>\n",
       "    </tr>\n",
       "    <tr>\n",
       "      <th>A05</th>\n",
       "      <td>2020-07-21T02:20:45.384Z</td>\n",
       "      <td>7.254428</td>\n",
       "      <td>34</td>\n",
       "      <td>10</td>\n",
       "      <td>11.254428</td>\n",
       "    </tr>\n",
       "  </tbody>\n",
       "</table>\n",
       "</div>"
      ],
      "text/plain": [
       "                     timestamp      time  cycle  volume  harvesttime\n",
       "well                                                                \n",
       "A01   2020-07-21T04:04:43.072Z  8.987120     42      10    12.987120\n",
       "A02   2020-07-21T02:47:12.518Z  7.695299     36      10    11.695299\n",
       "A03   2020-07-21T04:04:43.118Z  8.987132     42      10    12.987132\n",
       "A04   2020-07-21T04:04:43.147Z  8.987140     42      10    12.987140\n",
       "A05   2020-07-21T02:20:45.384Z  7.254428     34      10    11.254428"
      ]
     },
     "execution_count": 3,
     "metadata": {},
     "output_type": "execute_result"
    }
   ],
   "source": [
    "df_inductions = pandas.read_excel(\n",
    "    DP_DATA / \"8X4PF4_eventlog.xlsx\",\n",
    "    index_col=0, sheet_name=\"inductions\"\n",
    ").set_index(\"well\").sort_index()\n",
    "df_inductions.head()"
   ]
  },
  {
   "cell_type": "code",
   "execution_count": 4,
   "id": "formed-operations",
   "metadata": {},
   "outputs": [
    {
     "data": {
      "text/html": [
       "<div>\n",
       "<style scoped>\n",
       "    .dataframe tbody tr th:only-of-type {\n",
       "        vertical-align: middle;\n",
       "    }\n",
       "\n",
       "    .dataframe tbody tr th {\n",
       "        vertical-align: top;\n",
       "    }\n",
       "\n",
       "    .dataframe thead th {\n",
       "        text-align: right;\n",
       "    }\n",
       "</style>\n",
       "<table border=\"1\" class=\"dataframe\">\n",
       "  <thead>\n",
       "    <tr style=\"text-align: right;\">\n",
       "      <th></th>\n",
       "      <th>timestamp</th>\n",
       "      <th>time</th>\n",
       "      <th>cycle</th>\n",
       "      <th>volume</th>\n",
       "      <th>supernatant_well</th>\n",
       "    </tr>\n",
       "    <tr>\n",
       "      <th>well</th>\n",
       "      <th></th>\n",
       "      <th></th>\n",
       "      <th></th>\n",
       "      <th></th>\n",
       "      <th></th>\n",
       "    </tr>\n",
       "  </thead>\n",
       "  <tbody>\n",
       "    <tr>\n",
       "      <th>A01</th>\n",
       "      <td>2020-07-21T08:10:04.721Z</td>\n",
       "      <td>13.076466</td>\n",
       "      <td>61</td>\n",
       "      <td>-950</td>\n",
       "      <td>H01</td>\n",
       "    </tr>\n",
       "    <tr>\n",
       "      <th>A02</th>\n",
       "      <td>2020-07-21T07:05:04.299Z</td>\n",
       "      <td>11.993016</td>\n",
       "      <td>56</td>\n",
       "      <td>-950</td>\n",
       "      <td>G01</td>\n",
       "    </tr>\n",
       "    <tr>\n",
       "      <th>A03</th>\n",
       "      <td>2020-07-21T08:10:04.786Z</td>\n",
       "      <td>13.076485</td>\n",
       "      <td>61</td>\n",
       "      <td>-950</td>\n",
       "      <td>F01</td>\n",
       "    </tr>\n",
       "    <tr>\n",
       "      <th>A04</th>\n",
       "      <td>2020-07-21T08:10:04.841Z</td>\n",
       "      <td>13.076500</td>\n",
       "      <td>61</td>\n",
       "      <td>-950</td>\n",
       "      <td>E01</td>\n",
       "    </tr>\n",
       "    <tr>\n",
       "      <th>A05</th>\n",
       "      <td>2020-07-21T06:26:17.384Z</td>\n",
       "      <td>11.346651</td>\n",
       "      <td>53</td>\n",
       "      <td>-950</td>\n",
       "      <td>D01</td>\n",
       "    </tr>\n",
       "  </tbody>\n",
       "</table>\n",
       "</div>"
      ],
      "text/plain": [
       "                     timestamp       time  cycle  volume supernatant_well\n",
       "well                                                                     \n",
       "A01   2020-07-21T08:10:04.721Z  13.076466     61    -950              H01\n",
       "A02   2020-07-21T07:05:04.299Z  11.993016     56    -950              G01\n",
       "A03   2020-07-21T08:10:04.786Z  13.076485     61    -950              F01\n",
       "A04   2020-07-21T08:10:04.841Z  13.076500     61    -950              E01\n",
       "A05   2020-07-21T06:26:17.384Z  11.346651     53    -950              D01"
      ]
     },
     "execution_count": 4,
     "metadata": {},
     "output_type": "execute_result"
    }
   ],
   "source": [
    "df_samplings = pandas.read_excel(\n",
    "    DP_DATA / \"8X4PF4_eventlog.xlsx\",\n",
    "    index_col=0, sheet_name=\"samplings\"\n",
    ").set_index(\"well\").sort_index()\n",
    "\n",
    "# Uncomment the next block for the LaTeX formatted table\n",
    "#print(df_samplings.head().to_latex(\n",
    "#    label=\"tab_samplings\",\n",
    "#    bold_rows=True,\n",
    "#    caption=\"Excerpt of sampling event log\"\n",
    "#))\n",
    "\n",
    "df_samplings.head()"
   ]
  },
  {
   "cell_type": "markdown",
   "id": "f4c24057",
   "metadata": {},
   "source": [
    "## Example 1: Process variables with annotations"
   ]
  },
  {
   "cell_type": "code",
   "execution_count": 5,
   "id": "attended-barrel",
   "metadata": {},
   "outputs": [
    {
     "data": {
      "image/png": "[encoded data removed]",
      "text/plain": [
       "<Figure size 1680x420 with 1 Axes>"
      ]
     },
     "metadata": {
      "needs_background": "light"
     },
     "output_type": "display_data"
    }
   ],
   "source": [
    "fig, ax = pyplot.subplots(dpi=140, figsize=(12,3))\n",
    "\n",
    "ax.plot(\n",
    "    bldata.environment.time,\n",
    "    bldata.environment[\"humidity\"],\n",
    ")\n",
    "\n",
    "for row in bldata.comments.itertuples():\n",
    "    if row.sys_comment == \"PAUSE MEASUREMENT\":\n",
    "        ax.text(\n",
    "            row.time, 60, row.sys_comment,\n",
    "            rotation=90, fontsize=6\n",
    "        )\n",
    "        \n",
    "ax.set(\n",
    "    xlabel=\"time   [h]\",\n",
    "    ylabel=\"humidity   [%]\",\n",
    "    xlim=(0, 10)\n",
    ")\n",
    "\n",
    "fig.tight_layout()\n",
    "fig.savefig(DP_RESULTS / \"fig_environment_events.png\")\n",
    "fig.savefig(DP_RESULTS / \"fig_environment_events.pdf\")\n",
    "pyplot.show()"
   ]
  },
  {
   "cell_type": "markdown",
   "id": "01adca9d",
   "metadata": {},
   "source": [
    "## Example 2: Interactive plot of measurements"
   ]
  },
  {
   "cell_type": "code",
   "execution_count": 6,
   "id": "boring-application",
   "metadata": {},
   "outputs": [
    {
     "data": {
      "application/vnd.jupyter.widget-view+json": {
       "model_id": "890dd1d7cc9449ef9940f0dbff3fa118",
       "version_major": 2,
       "version_minor": 0
      },
      "text/plain": [
       "interactive(children=(Text(value='A01,A02,B01', description='wells'), Dropdown(description='filterset', index=…"
      ]
     },
     "metadata": {},
     "output_type": "display_data"
    }
   ],
   "source": [
    "def plot_custom(wells=\"A01,A02,B01\", filterset=\"DO\"):\n",
    "    fig, ax = pyplot.subplots(dpi=140, figsize=(12,3))\n",
    "    \n",
    "    for well in wells.split(\",\"):\n",
    "        if not well in bldata[filterset].value.columns:\n",
    "            # can't plot wells that don't exist\n",
    "            continue\n",
    "\n",
    "        t, y = bldata.get_timeseries(\n",
    "            filterset,\n",
    "            well,\n",
    "            last_cycle=df_samplings.loc[well, \"cycle\"]\n",
    "        )\n",
    "        ax.plot(t, y, label=well)\n",
    "\n",
    "    ax.legend()\n",
    "    ax.set(\n",
    "        xlabel=\"time   [h]\",\n",
    "        ylabel=filterset\n",
    "    )\n",
    "    pyplot.show()\n",
    "    \n",
    "ipywidgets.interact(\n",
    "    plot_custom,\n",
    "    filterset=bldata.keys()\n",
    ");"
   ]
  },
  {
   "cell_type": "code",
   "execution_count": 7,
   "id": "large-character",
   "metadata": {},
   "outputs": [
    {
     "name": "stdout",
     "output_type": "stream",
     "text": [
      "Last updated: 2021-07-30T13:22:09.579127+02:00\n",
      "\n",
      "Python implementation: CPython\n",
      "Python version       : 3.7.9\n",
      "IPython version      : 7.25.0\n",
      "\n",
      "Compiler    : MSC v.1916 64 bit (AMD64)\n",
      "OS          : Windows\n",
      "Release     : 10\n",
      "Machine     : AMD64\n",
      "Processor   : Intel64 Family 6 Model 158 Stepping 10, GenuineIntel\n",
      "CPU cores   : 6\n",
      "Architecture: 64bit\n",
      "\n"
     ]
    }
   ],
   "source": [
    "%load_ext watermark\n",
    "%watermark"
   ]
  }
 ],
 "metadata": {
  "kernelspec": {
   "display_name": "Python 3",
   "language": "python",
   "name": "python3"
  },
  "language_info": {
   "codemirror_mode": {
    "name": "ipython",
    "version": 3
   },
   "file_extension": ".py",
   "mimetype": "text/x-python",
   "name": "python",
   "nbconvert_exporter": "python",
   "pygments_lexer": "ipython3",
   "version": "3.7.9"
  }
 },
 "nbformat": 4,
 "nbformat_minor": 5
}
